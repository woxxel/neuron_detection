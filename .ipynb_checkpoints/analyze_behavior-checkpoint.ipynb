{
 "cells": [
  {
   "cell_type": "code",
   "execution_count": 4,
   "id": "40141beb",
   "metadata": {},
   "outputs": [],
   "source": [
    "import os\n",
    "\n",
    "import pandas as pd\n",
    "import numpy as np\n",
    "import matplotlib.pyplot as plt"
   ]
  },
  {
   "cell_type": "code",
   "execution_count": null,
   "id": "d68be128",
   "metadata": {},
   "outputs": [],
   "source": []
  },
  {
   "cell_type": "code",
   "execution_count": 33,
   "id": "626307b0",
   "metadata": {},
   "outputs": [
    {
     "name": "stdout",
     "output_type": "stream",
     "text": [
      "file found: /usr/users/cidbn1/neurodyn/AlzheimerMice_Hayashi/555wt/Session02/aa101617_555wt_pm.txt\n",
      "\n",
      "receiving incremental file list\n",
      "-rw-r-----      2.551.918 2017/10/16 07:24:40 aa101617_555wt_pm.txt\n",
      "\n",
      "sent 20 bytes  received 75 bytes  38,00 bytes/sec\n",
      "total size is 2.551.918  speedup is 26.862,29\n"
     ]
    },
    {
     "name": "stderr",
     "output_type": "stream",
     "text": [
      "sh: 2: tmp: not found\n"
     ]
    },
    {
     "data": {
      "text/plain": [
       "32512"
      ]
     },
     "execution_count": 33,
     "metadata": {},
     "output_type": "execute_result"
    }
   ],
   "source": [
    "ssh_alias = 'hpc-mdc'\n",
    "data_path = '/usr/users/cidbn1/neurodyn/AlzheimerMice_Hayashi'\n",
    "\n",
    "mouse = '555wt'\n",
    "session = 2\n",
    "\n",
    "#os.makedirs('./tmp')\n",
    "tmp_path = \"./tmp/behavior.txt\"\n",
    "\n",
    "bh_path = os.popen(f\"ssh {ssh_alias} find {data_path}/{mouse}/Session{session:02}/a* -maxdepth 0 -type f\").read()\n",
    "print('file found:',bh_file)\n",
    "\n",
    "os.system(f\"rsync -av -e ssh {ssh_alias}:{bh_path} ./tmp\")\n",
    "#data = pd.read_csv(tmp_path,sep='\\t')"
   ]
  },
  {
   "cell_type": "code",
   "execution_count": 26,
   "id": "d9d218f2",
   "metadata": {},
   "outputs": [
    {
     "name": "stdout",
     "output_type": "stream",
     "text": [
      "ls: cannot access 'tmp': No such file or directory\r\n"
     ]
    }
   ],
   "source": [
    "ls tmp"
   ]
  }
 ],
 "metadata": {
  "kernelspec": {
   "display_name": "Python 3 (ipykernel)",
   "language": "python",
   "name": "python3"
  },
  "language_info": {
   "codemirror_mode": {
    "name": "ipython",
    "version": 3
   },
   "file_extension": ".py",
   "mimetype": "text/x-python",
   "name": "python",
   "nbconvert_exporter": "python",
   "pygments_lexer": "ipython3",
   "version": "3.10.6"
  }
 },
 "nbformat": 4,
 "nbformat_minor": 5
}
